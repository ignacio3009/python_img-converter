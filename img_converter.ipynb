{
 "cells": [
  {
   "cell_type": "code",
   "execution_count": 1,
   "metadata": {},
   "outputs": [
    {
     "name": "stdout",
     "output_type": "stream",
     "text": [
      "Converted 1.webp to PNG\n",
      "Converted 10.webp to PNG\n",
      "Converted 11.webp to PNG\n",
      "Converted 12.webp to PNG\n",
      "Converted 2.webp to PNG\n",
      "Converted 3.webp to PNG\n",
      "Converted 4.webp to PNG\n",
      "Converted 5.webp to PNG\n",
      "Converted 6.webp to PNG\n",
      "Converted 7.webp to PNG\n",
      "Converted 8.webp to PNG\n",
      "Converted 9.webp to PNG\n",
      "Conversion complete!\n"
     ]
    }
   ],
   "source": [
    "from PIL import Image\n",
    "\n",
    "# Step 1\n",
    "from PIL import Image\n",
    "import os\n",
    "\n",
    "# Step 2\n",
    "input_dir = r\".\\input_images\"\n",
    "output_dir = r\".\\output_images\"\n",
    "\n",
    "# Create output directory if it doesn't exist\n",
    "if not os.path.exists(output_dir):\n",
    "    os.makedirs(output_dir)\n",
    "\n",
    "# Get all files in the input directory\n",
    "files = os.listdir(input_dir)\n",
    "\n",
    "# Iterate through each file in the input directory\n",
    "for file in files:\n",
    "    # Check if the file is an image\n",
    "    if file.endswith(\".webp\") or file.endswith(\".png\"):\n",
    "        # Open the image\n",
    "        image_path = os.path.join(input_dir, file)\n",
    "        image = Image.open(image_path)\n",
    "\n",
    "        # Convert the image format (e.g., from JPEG to PNG)\n",
    "        new_file = os.path.splitext(file)[0] + \".png\"\n",
    "        output_path = os.path.join(output_dir, new_file)\n",
    "        image.save(output_path, format=\"PNG\")\n",
    "\n",
    "        print(f\"Converted {file} to PNG\")\n",
    "\n",
    "print(\"Conversion complete!\")"
   ]
  }
 ],
 "metadata": {
  "kernelspec": {
   "display_name": ".venv",
   "language": "python",
   "name": "python3"
  },
  "language_info": {
   "codemirror_mode": {
    "name": "ipython",
    "version": 3
   },
   "file_extension": ".py",
   "mimetype": "text/x-python",
   "name": "python",
   "nbconvert_exporter": "python",
   "pygments_lexer": "ipython3",
   "version": "3.11.9"
  }
 },
 "nbformat": 4,
 "nbformat_minor": 2
}
